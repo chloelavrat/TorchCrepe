{
 "cells": [
  {
   "cell_type": "markdown",
   "metadata": {},
   "source": [
    "# Datasets"
   ]
  },
  {
   "cell_type": "code",
   "execution_count": 1,
   "metadata": {},
   "outputs": [],
   "source": [
    "# fix relative import\n",
    "import os, sys\n",
    "dir2 = os.path.abspath('')\n",
    "dir1 = os.path.dirname(dir2)\n",
    "if not dir1 in sys.path: sys.path.append(dir1)"
   ]
  },
  {
   "cell_type": "code",
   "execution_count": 2,
   "metadata": {},
   "outputs": [
    {
     "name": "stdout",
     "output_type": "stream",
     "text": [
      "audio backend list: ['soundfile']\n"
     ]
    }
   ],
   "source": [
    "# import libs + list audio backend\n",
    "from tqdm import tqdm\n",
    "import torch\n",
    "import torchaudio\n",
    "from concurrent.futures import ThreadPoolExecutor, as_completed\n",
    "print(f\"audio backend list: {str(torchaudio.list_audio_backends())}\")"
   ]
  },
  {
   "cell_type": "code",
   "execution_count": 3,
   "metadata": {},
   "outputs": [],
   "source": [
    "# dataset scan function with multithreading\n",
    "def dataset_scan(data, desc, max_workers=4):\n",
    "    error = False\n",
    "    \n",
    "    def process_item(i):\n",
    "        try:\n",
    "            audio = data[i][0].shape\n",
    "            label = data[i][1].shape\n",
    "        except Exception as e:\n",
    "            return (i, data.files[i], str(e))\n",
    "        return None\n",
    "    \n",
    "    with ThreadPoolExecutor(max_workers=max_workers) as executor:\n",
    "        futures = {executor.submit(process_item, i): i for i in range(len(data))}\n",
    "        \n",
    "        for future in tqdm(as_completed(futures), total=len(data), desc=desc):\n",
    "            result = future.result()\n",
    "            if result is not None:\n",
    "                error = True\n",
    "                i, file, exception = result\n",
    "                print(f\"Error id: {i} file: {file} - Exception: {exception}\")\n",
    "    \n",
    "    return error"
   ]
  },
  {
   "cell_type": "code",
   "execution_count": null,
   "metadata": {},
   "outputs": [],
   "source": [
    "# Import: MIR-1K\n",
    "from crepe.dataset import MIR1KDataset\n",
    "mir_1k = MIR1KDataset(root_dir=os.path.join(dir1, \"dataset/MIR-1K\"))\n",
    "\n",
    "# Test: MIR-1K\n",
    "print(\"** mir_1k **\")\n",
    "print(f\"lenght of dataset: {len(mir_1k)}\")\n",
    "idx = int(torch.randint(0, int(len(mir_1k)), (1,)))\n",
    "print(f\"random sample id: {int(idx)}\")\n",
    "print(f\"id_{idx} audio size: {mir_1k[idx][0].shape}\")\n",
    "print(f\"id_{idx} label size: {mir_1k[idx][1].shape}\")\n",
    "\n",
    "error = dataset_scan(mir_1k, \"test mir_1k\")\n",
    "\n",
    "if not error:\n",
    "    print(\"Dataset analyzed and ready to be used\")\n",
    "if error:\n",
    "    print(\"it seams that your dataset is not well formated.\")"
   ]
  },
  {
   "cell_type": "code",
   "execution_count": null,
   "metadata": {},
   "outputs": [],
   "source": [
    "# Import: Bach-10\n",
    "from crepe.dataset import Back10Dataset\n",
    "back10 = Back10Dataset(root_dir=os.path.join(dir1, \"dataset/Bach10\"))\n",
    "\n",
    "# Test: MIR-1K\n",
    "print(\"** back10 **\")\n",
    "print(f\"lenght of dataset: {len(back10)}\")\n",
    "idx = int(torch.randint(0, int(len(back10)), (1,)))\n",
    "print(f\"random sample id: {int(idx)}\")\n",
    "print(f\"id_{idx} audio size: {back10[idx][0].shape}\")\n",
    "print(f\"id_{idx} label size: {back10[idx][1].shape}\")\n",
    "\n",
    "error = dataset_scan(back10, \"test back10\")\n",
    "\n",
    "if not error:\n",
    "    print(\"Dataset analyzed and ready to be used\")\n",
    "if error:\n",
    "    print(\"it seams that your dataset is not well formated.\")"
   ]
  },
  {
   "cell_type": "code",
   "execution_count": 4,
   "metadata": {},
   "outputs": [
    {
     "name": "stdout",
     "output_type": "stream",
     "text": [
      "** nsynth **\n",
      "lenght of dataset: 10062\n",
      "random sample id: 5246\n",
      "id_5246 audio size: torch.Size([1920000])\n",
      "id_5246 label size: torch.Size([48000])\n"
     ]
    },
    {
     "name": "stderr",
     "output_type": "stream",
     "text": [
      "test nsynth: 100%|██████████| 10062/10062 [1:49:47<00:00,  1.53it/s]    "
     ]
    },
    {
     "name": "stdout",
     "output_type": "stream",
     "text": [
      "Dataset analyzed and ready to be used\n"
     ]
    },
    {
     "name": "stderr",
     "output_type": "stream",
     "text": [
      "\n"
     ]
    }
   ],
   "source": [
    "# Import: Nsynth\n",
    "from crepe.dataset import NSynthDataset\n",
    "nsynth = NSynthDataset(root_dir=os.path.join(dir1, \"dataset/Nsynth-mixed\"), n_samples=30)\n",
    "\n",
    "# Test: MIR-1K\n",
    "print(\"** nsynth **\")\n",
    "print(f\"lenght of dataset: {len(nsynth)}\")\n",
    "idx = int(torch.randint(0, int(len(nsynth)), (1,)))\n",
    "print(f\"random sample id: {int(idx)}\")\n",
    "print(f\"id_{idx} audio size: {nsynth[idx][0].shape}\")\n",
    "print(f\"id_{idx} label size: {nsynth[idx][1].shape}\")\n",
    "\n",
    "error = dataset_scan(nsynth, \"test nsynth\")\n",
    "\n",
    "if not error:\n",
    "    print(\"Dataset analyzed and ready to be used\")\n",
    "if error:\n",
    "    print(\"it seams that your dataset is not well formated.\")"
   ]
  }
 ],
 "metadata": {
  "kernelspec": {
   "display_name": ".venv",
   "language": "python",
   "name": "python3"
  },
  "language_info": {
   "codemirror_mode": {
    "name": "ipython",
    "version": 3
   },
   "file_extension": ".py",
   "mimetype": "text/x-python",
   "name": "python",
   "nbconvert_exporter": "python",
   "pygments_lexer": "ipython3",
   "version": "3.12.4"
  }
 },
 "nbformat": 4,
 "nbformat_minor": 2
}
