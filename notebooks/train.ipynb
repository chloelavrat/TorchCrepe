{
 "cells": [
  {
   "cell_type": "markdown",
   "metadata": {},
   "source": [
    "# Train"
   ]
  },
  {
   "cell_type": "code",
   "execution_count": 1,
   "metadata": {},
   "outputs": [],
   "source": [
    "# fix relative import\n",
    "import os, sys, torch\n",
    "dir2 = os.path.abspath('')\n",
    "dir1 = os.path.dirname(dir2)\n",
    "if not dir1 in sys.path: sys.path.append(dir1)"
   ]
  },
  {
   "cell_type": "code",
   "execution_count": 2,
   "metadata": {},
   "outputs": [
    {
     "name": "stdout",
     "output_type": "stream",
     "text": [
      "crepe device:  mps\n",
      "crepe model_capacity:  tiny\n"
     ]
    }
   ],
   "source": [
    "# Import crepe\n",
    "from crepe.model import Crepe\n",
    "\n",
    "device = torch.device('cuda' if torch.cuda.is_available(\n",
    ") else 'mps' if torch.backends.mps.is_available() else 'cpu')\n",
    "\n",
    "crepe = Crepe(model_capacity='tiny', device=device)\n",
    "\n",
    "print(f\"crepe device: \", crepe.device)\n",
    "print(f\"crepe model_capacity: \", crepe.model_capacity)\n"
   ]
  },
  {
   "cell_type": "code",
   "execution_count": 3,
   "metadata": {},
   "outputs": [
    {
     "name": "stdout",
     "output_type": "stream",
     "text": [
      "random sample id: 359\n",
      "id_359 audio size: torch.Size([176641])\n",
      "id_359 label size: torch.Size([551])\n"
     ]
    }
   ],
   "source": [
    "# Import: MIR-1K (selection of one sample)\n",
    "from crepe.dataset import MIR1KDataset\n",
    "mir_1k = MIR1KDataset(root_dir=os.path.join(dir1, \"dataset/MIR-1K\"))\n",
    "\n",
    "sr = 16000\n",
    "idx = int(torch.randint(0, int(len(mir_1k)), (1,)))\n",
    "print(f\"random sample id: {int(idx)}\")\n",
    "print(f\"id_{idx} audio size: {mir_1k[idx][0].shape}\")\n",
    "print(f\"id_{idx} label size: {mir_1k[idx][1].shape}\")\n",
    "audio = mir_1k[idx][0]\n",
    "labels = mir_1k[idx][1]\n"
   ]
  },
  {
   "cell_type": "code",
   "execution_count": 6,
   "metadata": {},
   "outputs": [
    {
     "name": "stdout",
     "output_type": "stream",
     "text": [
      "labels_activations shape: torch.Size([1105, 360])\n",
      "model_activations shape: torch.Size([1105, 360])\n"
     ]
    }
   ],
   "source": [
    "# train step test\n",
    "from train import epoch_step\n",
    "labels_activations, model_activations = epoch_step(crepe, audio, labels, sr, device)\n",
    "\n",
    "print(f\"labels_activations shape: {labels_activations.shape}\")\n",
    "print(f\"model_activations shape: {model_activations.shape}\")"
   ]
  },
  {
   "cell_type": "code",
   "execution_count": 5,
   "metadata": {},
   "outputs": [
    {
     "name": "stdout",
     "output_type": "stream",
     "text": [
      "loss is 0.694\n"
     ]
    }
   ],
   "source": [
    "# test loss\n",
    "import torch.nn as nn\n",
    "criteron = nn.BCELoss()\n",
    "loss =  criteron(model_activations, labels_activations)\n",
    "print(f\"loss is {float(loss):.3f}\")"
   ]
  }
 ],
 "metadata": {
  "kernelspec": {
   "display_name": ".venv",
   "language": "python",
   "name": "python3"
  },
  "language_info": {
   "codemirror_mode": {
    "name": "ipython",
    "version": 3
   },
   "file_extension": ".py",
   "mimetype": "text/x-python",
   "name": "python",
   "nbconvert_exporter": "python",
   "pygments_lexer": "ipython3",
   "version": "3.12.4"
  }
 },
 "nbformat": 4,
 "nbformat_minor": 2
}
