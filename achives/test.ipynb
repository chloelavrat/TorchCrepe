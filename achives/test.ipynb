{
 "cells": [
  {
   "cell_type": "code",
   "execution_count": 1,
   "metadata": {},
   "outputs": [],
   "source": [
    "from crepe import CREPE, ConvolutionalBlock"
   ]
  },
  {
   "cell_type": "code",
   "execution_count": 2,
   "metadata": {},
   "outputs": [],
   "source": [
    "convBlock = ConvolutionalBlock(64, 16, 2, 1)"
   ]
  },
  {
   "cell_type": "code",
   "execution_count": 3,
   "metadata": {},
   "outputs": [
    {
     "name": "stdout",
     "output_type": "stream",
     "text": [
      "ConvolutionalBlock(\n",
      "  (layer): Sequential(\n",
      "    (0): ZeroPad2d((0, 0, 7, 8))\n",
      "    (1): Conv2d(1, 64, kernel_size=(16, 1), stride=(2, 2))\n",
      "    (2): ReLU()\n",
      "    (3): BatchNorm2d(64, eps=1e-05, momentum=0.1, affine=True, track_running_stats=True)\n",
      "    (4): MaxPool2d(kernel_size=(2, 1), stride=(2, 1), padding=0, dilation=1, ceil_mode=False)\n",
      "    (5): Dropout(p=0.25, inplace=False)\n",
      "  )\n",
      ")\n"
     ]
    }
   ],
   "source": [
    "print(convBlock)"
   ]
  },
  {
   "cell_type": "code",
   "execution_count": 4,
   "metadata": {},
   "outputs": [
    {
     "name": "stderr",
     "output_type": "stream",
     "text": [
      "/Users/chloelavrat/Documents/GitHub/TorchCrepe/crepe1.py:62: FutureWarning: You are using `torch.load` with `weights_only=False` (the current default value), which uses the default pickle module implicitly. It is possible to construct malicious pickle data which will execute arbitrary code during unpickling (See https://github.com/pytorch/pytorch/blob/main/SECURITY.md#untrusted-models for more details). In a future release, the default value for `weights_only` will be flipped to `True`. This limits the functions that could be executed during unpickling. Arbitrary objects will no longer be allowed to be loaded via this mode unless they are explicitly allowlisted by the user via `torch.serialization.add_safe_globals`. We recommend you start setting `weights_only=True` for any use case where you don't have full control of the loaded file. Please open an issue on GitHub for any issues related to this experimental feature.\n",
      "  self.load_state_dict(torch.load(os.path.join(\n"
     ]
    }
   ],
   "source": [
    "from achives.crepe1 import CREPE as cr\n",
    "a_crepe = cr(model_capacity=\"tiny\")\n"
   ]
  },
  {
   "cell_type": "code",
   "execution_count": 5,
   "metadata": {},
   "outputs": [],
   "source": [
    "from crepe import CREPE as crepe\n",
    "my_crepe = crepe(model_capacity=\"tiny\")"
   ]
  },
  {
   "cell_type": "code",
   "execution_count": 6,
   "metadata": {},
   "outputs": [
    {
     "name": "stdout",
     "output_type": "stream",
     "text": [
      "a_crepe\n",
      "torch.Size([1, 160000])\n",
      "torch.Size([1001, 360])\n",
      "my_crepe\n",
      "torch.Size([1, 160000])\n",
      "torch.Size([1001, 360])\n"
     ]
    }
   ],
   "source": [
    "import torch\n",
    "import torchaudio\n",
    "import torch.nn as nn\n",
    "\n",
    "zeros = torch.zeros([1,160000])\n",
    "print(\"a_crepe\")\n",
    "print(zeros.shape)\n",
    "print(a_crepe.get_activation(zeros, 16000).shape)\n",
    "print(\"my_crepe\")\n",
    "print(zeros.shape)\n",
    "print(my_crepe.compute_activation(zeros, 16000).shape)"
   ]
  },
  {
   "cell_type": "code",
   "execution_count": 7,
   "metadata": {},
   "outputs": [
    {
     "name": "stdout",
     "output_type": "stream",
     "text": [
      "tensor([8378.6953, 8378.6953, 8378.6953,  ..., 8378.6953, 8378.6953,\n",
      "        8378.6953], grad_fn=<IndexPutBackward0>)\n"
     ]
    }
   ],
   "source": [
    "from utils import activation_to_frequency\n",
    "my_freq = activation_to_frequency(my_crepe.compute_activation(zeros, 16000))\n",
    "print(my_freq)"
   ]
  },
  {
   "cell_type": "code",
   "execution_count": 8,
   "metadata": {},
   "outputs": [
    {
     "name": "stdout",
     "output_type": "stream",
     "text": [
      "tensor([32.7000, 32.7000, 32.7000,  ..., 32.7000, 32.7000, 32.7000],\n",
      "       grad_fn=<IndexPutBackward0>)\n"
     ]
    }
   ],
   "source": [
    "a_freq = activation_to_frequency(a_crepe.get_activation(zeros, 16000))\n",
    "print(a_freq)"
   ]
  },
  {
   "cell_type": "code",
   "execution_count": 15,
   "metadata": {},
   "outputs": [
    {
     "name": "stdout",
     "output_type": "stream",
     "text": [
      "tensor(0.)\n",
      "tensor(0.)\n"
     ]
    }
   ],
   "source": [
    "from utils import frequency_to_activation as my_frequency_to_activation\n",
    "from achives.utils import get_activation_from_label as a_frequency_to_activation\n",
    "print(torch.max(a_frequency_to_activation(a_freq)-my_frequency_to_activation(a_freq)))\n",
    "print(torch.max(my_frequency_to_activation(my_freq)-a_frequency_to_activation(my_freq)))"
   ]
  }
 ],
 "metadata": {
  "kernelspec": {
   "display_name": ".venv",
   "language": "python",
   "name": "python3"
  },
  "language_info": {
   "codemirror_mode": {
    "name": "ipython",
    "version": 3
   },
   "file_extension": ".py",
   "mimetype": "text/x-python",
   "name": "python",
   "nbconvert_exporter": "python",
   "pygments_lexer": "ipython3",
   "version": "3.12.4"
  }
 },
 "nbformat": 4,
 "nbformat_minor": 2
}
